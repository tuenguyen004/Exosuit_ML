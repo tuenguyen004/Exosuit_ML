{
  "nbformat": 4,
  "nbformat_minor": 0,
  "metadata": {
    "colab": {
      "name": "Copy of IMU test - selfmade.ipynb",
      "provenance": [],
      "collapsed_sections": []
    },
    "kernelspec": {
      "name": "python3",
      "display_name": "Python 3"
    }
  },
  "cells": [
    {
      "cell_type": "markdown",
      "metadata": {
        "id": "brSn-g7iQssk"
      },
      "source": [
        "#SELF-MADE PRE-PROCESSING MODEL \n",
        "* for multi-variable, we might have to run a similar training procedure below but with a different hyper-parameter tuning for each - will talk with Aryan if there's a way to train a \"tensor\" object & its advantages - otherwise, this is doing the same\n",
        "\n",
        "* large picture, we would calculate all the weights after training each datasets (x,y,z,andles,blah,blah) and load that into a server to call model.predict\n",
        "\n",
        "* this takes an input array of the history data we want to forecast forward, and will return an array as well\n",
        "\n",
        "* after getting all the arrays for one timestep - organize them and run them through the POstureID Algorithm to determine which timestep in future is there a potential bad posture \n",
        "\n",
        "* we can determine how long that predicted bad postures can last before we actually report that prediction signal to users (through haptics)"
      ]
    },
    {
      "cell_type": "markdown",
      "metadata": {
        "id": "AXIpoHWLhLer"
      },
      "source": [
        "things needed from Tom:\n",
        "* how many datapoints we need as history, how much as forecast data\n",
        "* how much to sample down from 100hz data collect\n",
        "* testing methods to new data\n",
        "\n",
        "Soon, we can move our model into IMU datasets to test"
      ]
    },
    {
      "cell_type": "code",
      "metadata": {
        "id": "c7y5WrhBo8eR"
      },
      "source": [
        "import os\n",
        "import datetime\n",
        "\n",
        "import IPython\n",
        "import IPython.display\n",
        "import matplotlib as mpl\n",
        "import matplotlib.pyplot as plt\n",
        "\n",
        "import math\n",
        "import numpy as np\n",
        "import pandas as pd\n",
        "import seaborn as sns\n",
        "import tensorflow as tf\n",
        "\n",
        "%matplotlib inline\n",
        "%config InlineBackend.figure_format='retina'\n",
        "\n",
        "sns.set(style='whitegrid', palette='muted', font_scale=1.5)\n",
        "mpl.rcParams['figure.figsize'] = 18, 10\n",
        "mpl.rcParams['lines.linewidth']= 4\n",
        "mpl.rcParams['lines.markersize'] = 20"
      ],
      "execution_count": null,
      "outputs": []
    },
    {
      "cell_type": "code",
      "metadata": {
        "id": "R8LU0TVmklnw",
        "colab": {
          "base_uri": "https://localhost:8080/"
        },
        "outputId": "f0a6162d-04e5-455f-f196-8b66b4c27efa"
      },
      "source": [
        "print(tf.__version__)"
      ],
      "execution_count": null,
      "outputs": [
        {
          "output_type": "stream",
          "text": [
            "2.4.0\n"
          ],
          "name": "stdout"
        }
      ]
    },
    {
      "cell_type": "code",
      "metadata": {
        "id": "YxdO5F0-ldzk",
        "colab": {
          "base_uri": "https://localhost:8080/"
        },
        "outputId": "01b09c1f-d637-4ebd-cae8-60f69239c061"
      },
      "source": [
        "#Loading into GDrive\r\n",
        "from google.colab import drive\r\n",
        "drive.mount('/content/gdrive')\r\n",
        "\r\n",
        "root = 'gdrive/My Drive/Soft Robotics Exosuit Platform/Phase 4: Spring & Summer 2020/Usability/Hardware (Usability)/Motion Sensor Study/Machine Learning Test' \r\n",
        "print(\"*** root location defined as: \" + root)\r\n",
        "\r\n",
        "# ============================================================================= \r\n",
        "# ============================================================================= \r\n",
        "# ============================================================================= \r\n",
        "\r\n",
        "# Read .csv files and return pd.Dataframe\r\n",
        "def findPath(folder,filename):\r\n",
        "    #read in CSV file\r\n",
        "    data = pd.DataFrame();\r\n",
        "    data = pd.read_csv(root + \"/upload data/\" + folder + filename)\r\n",
        "    return data"
      ],
      "execution_count": null,
      "outputs": [
        {
          "output_type": "stream",
          "text": [
            "Drive already mounted at /content/gdrive; to attempt to forcibly remount, call drive.mount(\"/content/gdrive\", force_remount=True).\n",
            "*** root location defined as: gdrive/My Drive/Soft Robotics Exosuit Platform/Phase 4: Spring & Summer 2020/Usability/Hardware (Usability)/Motion Sensor Study/Machine Learning Test\n"
          ],
          "name": "stdout"
        }
      ]
    },
    {
      "cell_type": "markdown",
      "metadata": {
        "id": "gq2Zzmvu_q_e"
      },
      "source": [
        "* DataPrep Function (taken from Aug2020 model)\r\n",
        "* Removed all label columns because no need / will need to determine with PostureID Algorithm later"
      ]
    },
    {
      "cell_type": "code",
      "metadata": {
        "id": "abNanpTmwIF7",
        "cellView": "form"
      },
      "source": [
        "#@title dataprep function\r\n",
        "\"\"\"\r\n",
        "DataPrep Function (combining raw data in Dataframe & return numpy.ndarray)\r\n",
        "    > Removed labels of each position (upright, backNotStraight, twist, slouch)\r\n",
        "    > Keep just all the datatypes as raw data given in .csv files\r\n",
        "\"\"\"\r\n",
        "\r\n",
        "# XYZ Positions for three sensors (ChestTop, ChestBot, Tummy)\r\n",
        "def prepareData(folder,data1,data2,data3,data4,data5):\r\n",
        "    pos_list = [];\r\n",
        "    bodyPart = [data1,data2,data3]\r\n",
        "    original_y = pd.DataFrame();\r\n",
        "    name = ['ChestTop','ChestBottom','Tummy','wholeTorso']\r\n",
        "\r\n",
        "    for i in range(3):\r\n",
        "      position = findPath(folder, bodyPart[i])\r\n",
        "      position.reset_index(level=0, inplace=True)\r\n",
        "      position.columns = ['Time','x_'+name[i],'y_'+name[i],'z_'+name[i],'idk']\r\n",
        "      \r\n",
        "      #Search for height from data, filtered for only small x-z values\r\n",
        "      #replace if we have calibration process to find ChestTop's height\r\n",
        "      height = position['y_'+name[i]][0]\r\n",
        "      shrink = 0.001\r\n",
        "      for j in range(position.shape[0]):\r\n",
        "        if(abs(position['x_'+name[i]][j])<= shrink) and (abs(position['z_'+name[i]][j])<= shrink):\r\n",
        "          if height < position['y_'+name[i]][j]:\r\n",
        "            height = position['y_'+name[i]][j] \r\n",
        "      \r\n",
        "      #IMPORTANT FOR THETA DATATYPES \r\n",
        "      original_y['y_'+name[i]] = position['y_'+name[i]]\r\n",
        "\r\n",
        "      position = position.drop(columns=['idk'])\r\n",
        "      position = position.drop(columns=['Time'])\r\n",
        "      position = position.sub([0,height,0], axis='columns')\r\n",
        "      pos_list.append(position)\r\n",
        "      \r\n",
        "    pos_data = pos_list[0].join(pos_list[1])\r\n",
        "    pos_data = pos_data.join(pos_list[2])\r\n",
        "\r\n",
        "    # =========================================================================\r\n",
        "    # =========================================================================\r\n",
        "    # =========================================================================\r\n",
        "\r\n",
        "    pos_data_np = pos_data.to_numpy()\r\n",
        "    original_y_np = original_y.to_numpy()\r\n",
        "\r\n",
        "    radianToDegree = 180/np.pi\r\n",
        "    diffFront = np.zeros(position.shape[0])\r\n",
        "    diffSide = np.zeros(position.shape[0])\r\n",
        "    count = 0\r\n",
        "\r\n",
        "    for i in range(position.shape[0]):\r\n",
        "      front1 = math.atan( (pos_data_np[i,0]-pos_data_np[i,3]) / (original_y_np[i,0]-original_y_np[i,1]) ) * radianToDegree\r\n",
        "      front2 = math.atan( (pos_data_np[i,3]-pos_data_np[i,6]) / (original_y_np[i,1]-original_y_np[i,2]) ) * radianToDegree\r\n",
        "      diffFront[i] = front1 - front2;\r\n",
        "\r\n",
        "      side1 = math.atan( (pos_data_np[i,2]-pos_data_np[i,5]) / (original_y_np[i,0]-original_y_np[i,1]) ) * radianToDegree\r\n",
        "      side2 = math.atan( (pos_data_np[i,5]-pos_data_np[i,8]) / (original_y_np[i,1]-original_y_np[i,2]) ) * radianToDegree\r\n",
        "      diffSide[i] = side1 - side2\r\n",
        "    diffFront = pd.Series(diffFront)\r\n",
        "    diffSide = pd.Series(diffSide)\r\n",
        "\r\n",
        "    theta_data = pd.concat([diffFront, diffSide], axis=1)\r\n",
        "    theta_data.columns = ['front(deg)','side(deg)']\r\n",
        "\r\n",
        "    # =========================================================================\r\n",
        "    # =========================================================================\r\n",
        "    # =========================================================================\r\n",
        "\r\n",
        "    # For Chest Angle = only keep anterior and rotate\r\n",
        "    chest = findPath(folder,data4)\r\n",
        "    chest.reset_index(level=0, inplace=True)\r\n",
        "    chest.columns = ['Time','anterior_Chest','lateral','rotate_Chest','idk']\r\n",
        "    chest = chest.drop(columns=['idk'])\r\n",
        "    chest = chest.drop(columns=['Time'])\r\n",
        "    chest = chest.drop(columns=['lateral'])\r\n",
        "\r\n",
        "    # For Chest Angle = only keep anterior and rotate\r\n",
        "    hip = findPath(folder,data5)\r\n",
        "    hip.reset_index(level=0, inplace=True)\r\n",
        "    hip.columns = ['Time','anterior_Hip','lateral','rotate_Hip','idk']\r\n",
        "    hip = hip.drop(columns=['idk'])\r\n",
        "    hip = hip.drop(columns=['Time'])\r\n",
        "    hip = hip.drop(columns=['lateral'])\r\n",
        "    hip = hip.drop(columns=['rotate_Hip'])\r\n",
        "\r\n",
        "    final = pos_data.join(theta_data)\r\n",
        "    final = final.join(chest)\r\n",
        "    final = final.join(hip)\r\n",
        "\r\n",
        "    return final"
      ],
      "execution_count": null,
      "outputs": []
    },
    {
      "cell_type": "code",
      "metadata": {
        "id": "sJvf6REp8Wa0",
        "colab": {
          "base_uri": "https://localhost:8080/",
          "height": 226
        },
        "outputId": "6bb145de-2c49-47c3-9517-9759da312080"
      },
      "source": [
        "df = prepareData(\"July31_Trial1/\",\r\n",
        "                  \"Positions_ChestTop.csv\",\r\n",
        "                  \"Positions_ChestBottom.csv\",\r\n",
        "                  \"Positions_Tummy.csv\",\r\n",
        "                  \"Angles_Chest.csv\",\r\n",
        "                  \"Angles_Hip.csv\")\r\n",
        "df.head()"
      ],
      "execution_count": null,
      "outputs": [
        {
          "output_type": "execute_result",
          "data": {
            "text/html": [
              "<div>\n",
              "<style scoped>\n",
              "    .dataframe tbody tr th:only-of-type {\n",
              "        vertical-align: middle;\n",
              "    }\n",
              "\n",
              "    .dataframe tbody tr th {\n",
              "        vertical-align: top;\n",
              "    }\n",
              "\n",
              "    .dataframe thead th {\n",
              "        text-align: right;\n",
              "    }\n",
              "</style>\n",
              "<table border=\"1\" class=\"dataframe\">\n",
              "  <thead>\n",
              "    <tr style=\"text-align: right;\">\n",
              "      <th></th>\n",
              "      <th>x_ChestTop</th>\n",
              "      <th>y_ChestTop</th>\n",
              "      <th>z_ChestTop</th>\n",
              "      <th>x_ChestBottom</th>\n",
              "      <th>y_ChestBottom</th>\n",
              "      <th>z_ChestBottom</th>\n",
              "      <th>x_Tummy</th>\n",
              "      <th>y_Tummy</th>\n",
              "      <th>z_Tummy</th>\n",
              "      <th>front(deg)</th>\n",
              "      <th>side(deg)</th>\n",
              "      <th>anterior_Chest</th>\n",
              "      <th>rotate_Chest</th>\n",
              "      <th>anterior_Hip</th>\n",
              "    </tr>\n",
              "  </thead>\n",
              "  <tbody>\n",
              "    <tr>\n",
              "      <th>0</th>\n",
              "      <td>-0.025</td>\n",
              "      <td>-0.002</td>\n",
              "      <td>0.023</td>\n",
              "      <td>-0.017</td>\n",
              "      <td>-0.001</td>\n",
              "      <td>0.012</td>\n",
              "      <td>-0.008</td>\n",
              "      <td>0.0</td>\n",
              "      <td>0.002</td>\n",
              "      <td>-1.534924</td>\n",
              "      <td>2.937525</td>\n",
              "      <td>6.249</td>\n",
              "      <td>-0.925</td>\n",
              "      <td>-1.935</td>\n",
              "    </tr>\n",
              "    <tr>\n",
              "      <th>1</th>\n",
              "      <td>-0.025</td>\n",
              "      <td>-0.002</td>\n",
              "      <td>0.023</td>\n",
              "      <td>-0.017</td>\n",
              "      <td>-0.001</td>\n",
              "      <td>0.012</td>\n",
              "      <td>-0.008</td>\n",
              "      <td>0.0</td>\n",
              "      <td>0.002</td>\n",
              "      <td>-1.534924</td>\n",
              "      <td>2.937525</td>\n",
              "      <td>6.257</td>\n",
              "      <td>-0.928</td>\n",
              "      <td>-1.938</td>\n",
              "    </tr>\n",
              "    <tr>\n",
              "      <th>2</th>\n",
              "      <td>-0.025</td>\n",
              "      <td>-0.002</td>\n",
              "      <td>0.023</td>\n",
              "      <td>-0.017</td>\n",
              "      <td>-0.001</td>\n",
              "      <td>0.012</td>\n",
              "      <td>-0.008</td>\n",
              "      <td>0.0</td>\n",
              "      <td>0.002</td>\n",
              "      <td>-1.534924</td>\n",
              "      <td>2.937525</td>\n",
              "      <td>6.267</td>\n",
              "      <td>-0.932</td>\n",
              "      <td>-1.943</td>\n",
              "    </tr>\n",
              "    <tr>\n",
              "      <th>3</th>\n",
              "      <td>-0.025</td>\n",
              "      <td>-0.002</td>\n",
              "      <td>0.023</td>\n",
              "      <td>-0.017</td>\n",
              "      <td>-0.001</td>\n",
              "      <td>0.012</td>\n",
              "      <td>-0.008</td>\n",
              "      <td>0.0</td>\n",
              "      <td>0.002</td>\n",
              "      <td>-1.534924</td>\n",
              "      <td>2.937525</td>\n",
              "      <td>6.279</td>\n",
              "      <td>-0.938</td>\n",
              "      <td>-1.947</td>\n",
              "    </tr>\n",
              "    <tr>\n",
              "      <th>4</th>\n",
              "      <td>-0.025</td>\n",
              "      <td>-0.002</td>\n",
              "      <td>0.023</td>\n",
              "      <td>-0.017</td>\n",
              "      <td>-0.001</td>\n",
              "      <td>0.012</td>\n",
              "      <td>-0.008</td>\n",
              "      <td>0.0</td>\n",
              "      <td>0.002</td>\n",
              "      <td>-1.534924</td>\n",
              "      <td>2.937525</td>\n",
              "      <td>6.291</td>\n",
              "      <td>-0.945</td>\n",
              "      <td>-1.952</td>\n",
              "    </tr>\n",
              "  </tbody>\n",
              "</table>\n",
              "</div>"
            ],
            "text/plain": [
              "   x_ChestTop  y_ChestTop  ...  rotate_Chest  anterior_Hip\n",
              "0      -0.025      -0.002  ...        -0.925        -1.935\n",
              "1      -0.025      -0.002  ...        -0.928        -1.938\n",
              "2      -0.025      -0.002  ...        -0.932        -1.943\n",
              "3      -0.025      -0.002  ...        -0.938        -1.947\n",
              "4      -0.025      -0.002  ...        -0.945        -1.952\n",
              "\n",
              "[5 rows x 14 columns]"
            ]
          },
          "metadata": {
            "tags": []
          },
          "execution_count": 100
        }
      ]
    },
    {
      "cell_type": "code",
      "metadata": {
        "id": "BrGpnM2PWosw"
      },
      "source": [
        "#@title Feature Selection (x_ChestTop data)\r\n",
        "feature = list(df.columns.values)\r\n",
        "selected = feature[0]\r\n",
        "\r\n",
        "#keeping temp = x_ChestTop data for now \r\n",
        "chestTop = df[feature[0:2]]\r\n",
        "df_chestTop = pd.DataFrame(data=chestTop[0:])"
      ],
      "execution_count": null,
      "outputs": []
    },
    {
      "cell_type": "code",
      "metadata": {
        "id": "9q3w52qGm_L0",
        "colab": {
          "base_uri": "https://localhost:8080/",
          "height": 206
        },
        "outputId": "c42c6e8b-7c07-4a1f-f09b-44a1a2c9f43d"
      },
      "source": [
        "df_chestTop.head()"
      ],
      "execution_count": null,
      "outputs": [
        {
          "output_type": "execute_result",
          "data": {
            "text/html": [
              "<div>\n",
              "<style scoped>\n",
              "    .dataframe tbody tr th:only-of-type {\n",
              "        vertical-align: middle;\n",
              "    }\n",
              "\n",
              "    .dataframe tbody tr th {\n",
              "        vertical-align: top;\n",
              "    }\n",
              "\n",
              "    .dataframe thead th {\n",
              "        text-align: right;\n",
              "    }\n",
              "</style>\n",
              "<table border=\"1\" class=\"dataframe\">\n",
              "  <thead>\n",
              "    <tr style=\"text-align: right;\">\n",
              "      <th></th>\n",
              "      <th>x_ChestTop</th>\n",
              "      <th>y_ChestTop</th>\n",
              "    </tr>\n",
              "  </thead>\n",
              "  <tbody>\n",
              "    <tr>\n",
              "      <th>0</th>\n",
              "      <td>-0.025</td>\n",
              "      <td>-0.002</td>\n",
              "    </tr>\n",
              "    <tr>\n",
              "      <th>1</th>\n",
              "      <td>-0.025</td>\n",
              "      <td>-0.002</td>\n",
              "    </tr>\n",
              "    <tr>\n",
              "      <th>2</th>\n",
              "      <td>-0.025</td>\n",
              "      <td>-0.002</td>\n",
              "    </tr>\n",
              "    <tr>\n",
              "      <th>3</th>\n",
              "      <td>-0.025</td>\n",
              "      <td>-0.002</td>\n",
              "    </tr>\n",
              "    <tr>\n",
              "      <th>4</th>\n",
              "      <td>-0.025</td>\n",
              "      <td>-0.002</td>\n",
              "    </tr>\n",
              "  </tbody>\n",
              "</table>\n",
              "</div>"
            ],
            "text/plain": [
              "   x_ChestTop  y_ChestTop\n",
              "0      -0.025      -0.002\n",
              "1      -0.025      -0.002\n",
              "2      -0.025      -0.002\n",
              "3      -0.025      -0.002\n",
              "4      -0.025      -0.002"
            ]
          },
          "metadata": {
            "tags": []
          },
          "execution_count": 120
        }
      ]
    },
    {
      "cell_type": "code",
      "metadata": {
        "id": "By16w_RLjOtm",
        "colab": {
          "base_uri": "https://localhost:8080/",
          "height": 206
        },
        "outputId": "14325d20-326a-4307-8d40-adcc01b25207"
      },
      "source": [
        "#@title Split 70-30\r\n",
        "split_data = int(len(df_chestTop) * 0.7)\r\n",
        "\r\n",
        "train_df = df_chestTop.iloc[0:split_data]\r\n",
        "test_df = df_chestTop.iloc[split_data:]\r\n",
        "\r\n",
        "train_df.head()"
      ],
      "execution_count": null,
      "outputs": [
        {
          "output_type": "execute_result",
          "data": {
            "text/html": [
              "<div>\n",
              "<style scoped>\n",
              "    .dataframe tbody tr th:only-of-type {\n",
              "        vertical-align: middle;\n",
              "    }\n",
              "\n",
              "    .dataframe tbody tr th {\n",
              "        vertical-align: top;\n",
              "    }\n",
              "\n",
              "    .dataframe thead th {\n",
              "        text-align: right;\n",
              "    }\n",
              "</style>\n",
              "<table border=\"1\" class=\"dataframe\">\n",
              "  <thead>\n",
              "    <tr style=\"text-align: right;\">\n",
              "      <th></th>\n",
              "      <th>x_ChestTop</th>\n",
              "      <th>y_ChestTop</th>\n",
              "    </tr>\n",
              "  </thead>\n",
              "  <tbody>\n",
              "    <tr>\n",
              "      <th>0</th>\n",
              "      <td>-0.025</td>\n",
              "      <td>-0.002</td>\n",
              "    </tr>\n",
              "    <tr>\n",
              "      <th>1</th>\n",
              "      <td>-0.025</td>\n",
              "      <td>-0.002</td>\n",
              "    </tr>\n",
              "    <tr>\n",
              "      <th>2</th>\n",
              "      <td>-0.025</td>\n",
              "      <td>-0.002</td>\n",
              "    </tr>\n",
              "    <tr>\n",
              "      <th>3</th>\n",
              "      <td>-0.025</td>\n",
              "      <td>-0.002</td>\n",
              "    </tr>\n",
              "    <tr>\n",
              "      <th>4</th>\n",
              "      <td>-0.025</td>\n",
              "      <td>-0.002</td>\n",
              "    </tr>\n",
              "  </tbody>\n",
              "</table>\n",
              "</div>"
            ],
            "text/plain": [
              "   x_ChestTop  y_ChestTop\n",
              "0      -0.025      -0.002\n",
              "1      -0.025      -0.002\n",
              "2      -0.025      -0.002\n",
              "3      -0.025      -0.002\n",
              "4      -0.025      -0.002"
            ]
          },
          "metadata": {
            "tags": []
          },
          "execution_count": 121
        }
      ]
    },
    {
      "cell_type": "code",
      "metadata": {
        "colab": {
          "base_uri": "https://localhost:8080/"
        },
        "id": "J3hSptJGlAZ6",
        "outputId": "20db73dd-995c-4c62-90ef-76bd38c76312"
      },
      "source": [
        "len(train_df.columns)"
      ],
      "execution_count": null,
      "outputs": [
        {
          "output_type": "execute_result",
          "data": {
            "text/plain": [
              "2"
            ]
          },
          "metadata": {
            "tags": []
          },
          "execution_count": 122
        }
      ]
    },
    {
      "cell_type": "markdown",
      "metadata": {
        "id": "eqdBOrtcjYTq"
      },
      "source": [
        "#BUILDING THE FORECAST MODEL (currently SingleShot Recurrent Neural Network) "
      ]
    },
    {
      "cell_type": "code",
      "metadata": {
        "id": "Vy7nREzqjZU8"
      },
      "source": [
        "in_steps = 8\r\n",
        "out_steps = 8\r\n",
        "\r\n",
        "def create_dataset(data, past=1, future=1):\r\n",
        "    Xs, ys = [], []\r\n",
        "    for i in range(len(data) - past):\r\n",
        "      input_width = i + past\r\n",
        "      label_width = input_width + future\r\n",
        "\r\n",
        "      v = data.iloc[i:input_width].values\r\n",
        "      Xs.append(v) \r\n",
        "\r\n",
        "      w = data.iloc[input_width:label_width].values\r\n",
        "      test = np.zeros(out_steps)\r\n",
        "      if(len(w) < out_steps):\r\n",
        "        for i in range(out_steps):\r\n",
        "          if i < len(w):\r\n",
        "            test[i] = w[i]\r\n",
        "          else:\r\n",
        "            test[i] = w[-1]\r\n",
        "        w = test\r\n",
        "      ys.append(w)\r\n",
        "\r\n",
        "    return np.array(Xs), np.array(ys)"
      ],
      "execution_count": null,
      "outputs": []
    },
    {
      "cell_type": "code",
      "metadata": {
        "id": "W_KEqSrULGg1"
      },
      "source": [
        "#Columns = # of datatypes need to be pre-processed\r\n",
        "num_features = len(train_df.columns)\r\n",
        "\r\n",
        "train_list = [train_df.iloc[:,i] for i in range(num_features)]\r\n",
        "test_list = [test_df.iloc[:,i] for i in range(num_features)]"
      ],
      "execution_count": null,
      "outputs": []
    },
    {
      "cell_type": "code",
      "metadata": {
        "id": "-TQoP3Knjf3q"
      },
      "source": [
        "input_train = []\r\n",
        "output_train = []\r\n",
        "input_test = []\r\n",
        "output_test = []\r\n",
        "\r\n",
        "for i in range(len(train_list)):\r\n",
        "  in_train, out_train = create_dataset(train_list[i], in_steps, out_steps)\r\n",
        "  in_test, out_test = create_dataset(test_list[i], in_steps, out_steps)\r\n",
        "\r\n",
        "  input_train.append(in_train)\r\n",
        "  output_train.append(out_train)\r\n",
        "  input_test.append(in_test)\r\n",
        "  output_test.append(out_test)"
      ],
      "execution_count": null,
      "outputs": []
    },
    {
      "cell_type": "code",
      "metadata": {
        "colab": {
          "base_uri": "https://localhost:8080/"
        },
        "id": "lrqU3Mjc3AAf",
        "outputId": "1997e133-a36b-437a-ab5f-63c963fd90e5"
      },
      "source": [
        "print(output_train[0])\r\n",
        "print(type(output_train[0]))"
      ],
      "execution_count": null,
      "outputs": [
        {
          "output_type": "stream",
          "text": [
            "[[-0.025 -0.025 -0.025 ... -0.025 -0.025 -0.025]\n",
            " [-0.025 -0.025 -0.025 ... -0.025 -0.025 -0.025]\n",
            " [-0.025 -0.025 -0.025 ... -0.025 -0.025 -0.025]\n",
            " ...\n",
            " [-0.154 -0.152 -0.151 ... -0.151 -0.151 -0.151]\n",
            " [-0.152 -0.151 -0.151 ... -0.151 -0.151 -0.151]\n",
            " [-0.151 -0.151 -0.151 ... -0.151 -0.151 -0.151]]\n",
            "<class 'numpy.ndarray'>\n"
          ],
          "name": "stdout"
        }
      ]
    },
    {
      "cell_type": "code",
      "metadata": {
        "id": "-21gYNgvCcws"
      },
      "source": [
        "def create_tensor(dataset_list):\r\n",
        "  tensor_list = [];\r\n",
        "  for i in range(len(dataset_list)):\r\n",
        "    dataset_to_tensor = tf.expand_dims(dataset_list[i], axis=2)\r\n",
        "    tensor_list.append(dataset_to_tensor)\r\n",
        "\r\n",
        "  result = tf.concat([tensor_list[i] for i in range(len(tensor_list))], axis=2)\r\n",
        "\r\n",
        "  return result"
      ],
      "execution_count": null,
      "outputs": []
    },
    {
      "cell_type": "code",
      "metadata": {
        "id": "ble1WJwMq3wr"
      },
      "source": [
        "history_train = create_tensor(input_train)\r\n",
        "future_train = create_tensor(output_train)"
      ],
      "execution_count": null,
      "outputs": []
    },
    {
      "cell_type": "code",
      "metadata": {
        "colab": {
          "base_uri": "https://localhost:8080/"
        },
        "id": "EvkI-4xkcysp",
        "outputId": "34ed8a7f-85ca-47a5-9cfd-0bb3df39caba"
      },
      "source": [
        "print(history_train.get_shape())\r\n",
        "print(future_train.get_shape())\r\n",
        "\r\n",
        "print(history_train[0])"
      ],
      "execution_count": null,
      "outputs": [
        {
          "output_type": "stream",
          "text": [
            "(41991, 8, 2)\n",
            "(41991, 8, 2)\n",
            "tf.Tensor(\n",
            "[[-0.025 -0.002]\n",
            " [-0.025 -0.002]\n",
            " [-0.025 -0.002]\n",
            " [-0.025 -0.002]\n",
            " [-0.025 -0.002]\n",
            " [-0.025 -0.002]\n",
            " [-0.025 -0.002]\n",
            " [-0.025 -0.002]], shape=(8, 2), dtype=float64)\n"
          ],
          "name": "stdout"
        }
      ]
    },
    {
      "cell_type": "code",
      "metadata": {
        "colab": {
          "base_uri": "https://localhost:8080/",
          "height": 622
        },
        "id": "nibegeD-kVM5",
        "outputId": "b29daf3b-87dd-4d38-f251-72599d273f63"
      },
      "source": [
        "body = 0\r\n",
        "idx = len(train_df)-out_steps-6\r\n",
        "\r\n",
        "plt.plot(np.arange(0, len(input_train[body][idx])), input_train[body][idx], 'g', marker='.', label=\"history\")\r\n",
        "plt.plot(np.arange(len(input_train[body][idx]), len(input_train[body][idx]) + len(output_train[body][idx])), output_train[body][idx], 'b', marker='.', label=\"true\")\r\n",
        "plt.ylabel(feature[body])\r\n",
        "plt.xlabel('Time Steps')\r\n",
        "plt.legend()\r\n",
        "plt.show()"
      ],
      "execution_count": null,
      "outputs": [
        {
          "output_type": "display_data",
          "data": {
            "image/png": "[encoded data removed]",
            "text/plain": [
              "<Figure size 1296x720 with 1 Axes>"
            ]
          },
          "metadata": {
            "tags": [],
            "image/png": {
              "width": 1121,
              "height": 605
            }
          }
        }
      ]
    },
    {
      "cell_type": "code",
      "metadata": {
        "id": "xyyN7Kmhp9-k"
      },
      "source": [
        "model = tf.keras.Sequential([\r\n",
        "    # Shape [batch, time, features] => [batch, lstm_units]\r\n",
        "    # Adding more `lstm_units` just overfits more quickly.\r\n",
        "    tf.keras.layers.LSTM(128, return_sequences=False),\r\n",
        "\r\n",
        "    # Shape => [batch, out_steps*features]\r\n",
        "    tf.keras.layers.Dense(out_steps, kernel_initializer=tf.initializers.zeros),\r\n",
        "])"
      ],
      "execution_count": null,
      "outputs": []
    },
    {
      "cell_type": "code",
      "metadata": {
        "colab": {
          "base_uri": "https://localhost:8080/",
          "height": 1000
        },
        "id": "dKeOKvsWbuUM",
        "outputId": "d183334d-e014-4291-a863-28c1ce9eda59"
      },
      "source": [
        "MAX_EPOCHS = 50\r\n",
        "\r\n",
        "model.compile(loss=tf.losses.MeanSquaredError(),\r\n",
        "              optimizer=tf.optimizers.Adam())\r\n",
        "\r\n",
        "history = model.fit(history_train, future_train, \r\n",
        "                    epochs=MAX_EPOCHS,\r\n",
        "                    batch_size=16,\r\n",
        "                    validation_split=0.2)"
      ],
      "execution_count": null,
      "outputs": [
        {
          "output_type": "stream",
          "text": [
            "Epoch 1/50\n"
          ],
          "name": "stdout"
        },
        {
          "output_type": "error",
          "ename": "ValueError",
          "evalue": "ignored",
          "traceback": [
            "\u001b[0;31m---------------------------------------------------------------------------\u001b[0m",
            "\u001b[0;31mValueError\u001b[0m                                Traceback (most recent call last)",
            "\u001b[0;32m<ipython-input-132-453e40ce6060>\u001b[0m in \u001b[0;36m<module>\u001b[0;34m()\u001b[0m\n\u001b[1;32m      8\u001b[0m                     \u001b[0mbatch_size\u001b[0m\u001b[0;34m=\u001b[0m\u001b[0;36m16\u001b[0m\u001b[0;34m,\u001b[0m\u001b[0;34m\u001b[0m\u001b[0;34m\u001b[0m\u001b[0m\n\u001b[1;32m      9\u001b[0m                     \u001b[0mvalidation_split\u001b[0m\u001b[0;34m=\u001b[0m\u001b[0;36m0.2\u001b[0m\u001b[0;34m,\u001b[0m\u001b[0;34m\u001b[0m\u001b[0;34m\u001b[0m\u001b[0m\n\u001b[0;32m---> 10\u001b[0;31m                     verbose=1, shuffle=False)\n\u001b[0m",
            "\u001b[0;32m/usr/local/lib/python3.6/dist-packages/tensorflow/python/keras/engine/training.py\u001b[0m in \u001b[0;36mfit\u001b[0;34m(self, x, y, batch_size, epochs, verbose, callbacks, validation_split, validation_data, shuffle, class_weight, sample_weight, initial_epoch, steps_per_epoch, validation_steps, validation_batch_size, validation_freq, max_queue_size, workers, use_multiprocessing)\u001b[0m\n\u001b[1;32m   1098\u001b[0m                 _r=1):\n\u001b[1;32m   1099\u001b[0m               \u001b[0mcallbacks\u001b[0m\u001b[0;34m.\u001b[0m\u001b[0mon_train_batch_begin\u001b[0m\u001b[0;34m(\u001b[0m\u001b[0mstep\u001b[0m\u001b[0;34m)\u001b[0m\u001b[0;34m\u001b[0m\u001b[0;34m\u001b[0m\u001b[0m\n\u001b[0;32m-> 1100\u001b[0;31m               \u001b[0mtmp_logs\u001b[0m \u001b[0;34m=\u001b[0m \u001b[0mself\u001b[0m\u001b[0;34m.\u001b[0m\u001b[0mtrain_function\u001b[0m\u001b[0;34m(\u001b[0m\u001b[0miterator\u001b[0m\u001b[0;34m)\u001b[0m\u001b[0;34m\u001b[0m\u001b[0;34m\u001b[0m\u001b[0m\n\u001b[0m\u001b[1;32m   1101\u001b[0m               \u001b[0;32mif\u001b[0m \u001b[0mdata_handler\u001b[0m\u001b[0;34m.\u001b[0m\u001b[0mshould_sync\u001b[0m\u001b[0;34m:\u001b[0m\u001b[0;34m\u001b[0m\u001b[0;34m\u001b[0m\u001b[0m\n\u001b[1;32m   1102\u001b[0m                 \u001b[0mcontext\u001b[0m\u001b[0;34m.\u001b[0m\u001b[0masync_wait\u001b[0m\u001b[0;34m(\u001b[0m\u001b[0;34m)\u001b[0m\u001b[0;34m\u001b[0m\u001b[0;34m\u001b[0m\u001b[0m\n",
            "\u001b[0;32m/usr/local/lib/python3.6/dist-packages/tensorflow/python/eager/def_function.py\u001b[0m in \u001b[0;36m__call__\u001b[0;34m(self, *args, **kwds)\u001b[0m\n\u001b[1;32m    826\u001b[0m     \u001b[0mtracing_count\u001b[0m \u001b[0;34m=\u001b[0m \u001b[0mself\u001b[0m\u001b[0;34m.\u001b[0m\u001b[0mexperimental_get_tracing_count\u001b[0m\u001b[0;34m(\u001b[0m\u001b[0;34m)\u001b[0m\u001b[0;34m\u001b[0m\u001b[0;34m\u001b[0m\u001b[0m\n\u001b[1;32m    827\u001b[0m     \u001b[0;32mwith\u001b[0m \u001b[0mtrace\u001b[0m\u001b[0;34m.\u001b[0m\u001b[0mTrace\u001b[0m\u001b[0;34m(\u001b[0m\u001b[0mself\u001b[0m\u001b[0;34m.\u001b[0m\u001b[0m_name\u001b[0m\u001b[0;34m)\u001b[0m \u001b[0;32mas\u001b[0m \u001b[0mtm\u001b[0m\u001b[0;34m:\u001b[0m\u001b[0;34m\u001b[0m\u001b[0;34m\u001b[0m\u001b[0m\n\u001b[0;32m--> 828\u001b[0;31m       \u001b[0mresult\u001b[0m \u001b[0;34m=\u001b[0m \u001b[0mself\u001b[0m\u001b[0;34m.\u001b[0m\u001b[0m_call\u001b[0m\u001b[0;34m(\u001b[0m\u001b[0;34m*\u001b[0m\u001b[0margs\u001b[0m\u001b[0;34m,\u001b[0m \u001b[0;34m**\u001b[0m\u001b[0mkwds\u001b[0m\u001b[0;34m)\u001b[0m\u001b[0;34m\u001b[0m\u001b[0;34m\u001b[0m\u001b[0m\n\u001b[0m\u001b[1;32m    829\u001b[0m       \u001b[0mcompiler\u001b[0m \u001b[0;34m=\u001b[0m \u001b[0;34m\"xla\"\u001b[0m \u001b[0;32mif\u001b[0m \u001b[0mself\u001b[0m\u001b[0;34m.\u001b[0m\u001b[0m_experimental_compile\u001b[0m \u001b[0;32melse\u001b[0m \u001b[0;34m\"nonXla\"\u001b[0m\u001b[0;34m\u001b[0m\u001b[0;34m\u001b[0m\u001b[0m\n\u001b[1;32m    830\u001b[0m       \u001b[0mnew_tracing_count\u001b[0m \u001b[0;34m=\u001b[0m \u001b[0mself\u001b[0m\u001b[0;34m.\u001b[0m\u001b[0mexperimental_get_tracing_count\u001b[0m\u001b[0;34m(\u001b[0m\u001b[0;34m)\u001b[0m\u001b[0;34m\u001b[0m\u001b[0;34m\u001b[0m\u001b[0m\n",
            "\u001b[0;32m/usr/local/lib/python3.6/dist-packages/tensorflow/python/eager/def_function.py\u001b[0m in \u001b[0;36m_call\u001b[0;34m(self, *args, **kwds)\u001b[0m\n\u001b[1;32m    869\u001b[0m       \u001b[0;31m# This is the first call of __call__, so we have to initialize.\u001b[0m\u001b[0;34m\u001b[0m\u001b[0;34m\u001b[0m\u001b[0;34m\u001b[0m\u001b[0m\n\u001b[1;32m    870\u001b[0m       \u001b[0minitializers\u001b[0m \u001b[0;34m=\u001b[0m \u001b[0;34m[\u001b[0m\u001b[0;34m]\u001b[0m\u001b[0;34m\u001b[0m\u001b[0;34m\u001b[0m\u001b[0m\n\u001b[0;32m--> 871\u001b[0;31m       \u001b[0mself\u001b[0m\u001b[0;34m.\u001b[0m\u001b[0m_initialize\u001b[0m\u001b[0;34m(\u001b[0m\u001b[0margs\u001b[0m\u001b[0;34m,\u001b[0m \u001b[0mkwds\u001b[0m\u001b[0;34m,\u001b[0m \u001b[0madd_initializers_to\u001b[0m\u001b[0;34m=\u001b[0m\u001b[0minitializers\u001b[0m\u001b[0;34m)\u001b[0m\u001b[0;34m\u001b[0m\u001b[0;34m\u001b[0m\u001b[0m\n\u001b[0m\u001b[1;32m    872\u001b[0m     \u001b[0;32mfinally\u001b[0m\u001b[0;34m:\u001b[0m\u001b[0;34m\u001b[0m\u001b[0;34m\u001b[0m\u001b[0m\n\u001b[1;32m    873\u001b[0m       \u001b[0;31m# At this point we know that the initialization is complete (or less\u001b[0m\u001b[0;34m\u001b[0m\u001b[0;34m\u001b[0m\u001b[0;34m\u001b[0m\u001b[0m\n",
            "\u001b[0;32m/usr/local/lib/python3.6/dist-packages/tensorflow/python/eager/def_function.py\u001b[0m in \u001b[0;36m_initialize\u001b[0;34m(self, args, kwds, add_initializers_to)\u001b[0m\n\u001b[1;32m    724\u001b[0m     self._concrete_stateful_fn = (\n\u001b[1;32m    725\u001b[0m         self._stateful_fn._get_concrete_function_internal_garbage_collected(  # pylint: disable=protected-access\n\u001b[0;32m--> 726\u001b[0;31m             *args, **kwds))\n\u001b[0m\u001b[1;32m    727\u001b[0m \u001b[0;34m\u001b[0m\u001b[0m\n\u001b[1;32m    728\u001b[0m     \u001b[0;32mdef\u001b[0m \u001b[0minvalid_creator_scope\u001b[0m\u001b[0;34m(\u001b[0m\u001b[0;34m*\u001b[0m\u001b[0munused_args\u001b[0m\u001b[0;34m,\u001b[0m \u001b[0;34m**\u001b[0m\u001b[0munused_kwds\u001b[0m\u001b[0;34m)\u001b[0m\u001b[0;34m:\u001b[0m\u001b[0;34m\u001b[0m\u001b[0;34m\u001b[0m\u001b[0m\n",
            "\u001b[0;32m/usr/local/lib/python3.6/dist-packages/tensorflow/python/eager/function.py\u001b[0m in \u001b[0;36m_get_concrete_function_internal_garbage_collected\u001b[0;34m(self, *args, **kwargs)\u001b[0m\n\u001b[1;32m   2967\u001b[0m       \u001b[0margs\u001b[0m\u001b[0;34m,\u001b[0m \u001b[0mkwargs\u001b[0m \u001b[0;34m=\u001b[0m \u001b[0;32mNone\u001b[0m\u001b[0;34m,\u001b[0m \u001b[0;32mNone\u001b[0m\u001b[0;34m\u001b[0m\u001b[0;34m\u001b[0m\u001b[0m\n\u001b[1;32m   2968\u001b[0m     \u001b[0;32mwith\u001b[0m \u001b[0mself\u001b[0m\u001b[0;34m.\u001b[0m\u001b[0m_lock\u001b[0m\u001b[0;34m:\u001b[0m\u001b[0;34m\u001b[0m\u001b[0;34m\u001b[0m\u001b[0m\n\u001b[0;32m-> 2969\u001b[0;31m       \u001b[0mgraph_function\u001b[0m\u001b[0;34m,\u001b[0m \u001b[0m_\u001b[0m \u001b[0;34m=\u001b[0m \u001b[0mself\u001b[0m\u001b[0;34m.\u001b[0m\u001b[0m_maybe_define_function\u001b[0m\u001b[0;34m(\u001b[0m\u001b[0margs\u001b[0m\u001b[0;34m,\u001b[0m \u001b[0mkwargs\u001b[0m\u001b[0;34m)\u001b[0m\u001b[0;34m\u001b[0m\u001b[0;34m\u001b[0m\u001b[0m\n\u001b[0m\u001b[1;32m   2970\u001b[0m     \u001b[0;32mreturn\u001b[0m \u001b[0mgraph_function\u001b[0m\u001b[0;34m\u001b[0m\u001b[0;34m\u001b[0m\u001b[0m\n\u001b[1;32m   2971\u001b[0m \u001b[0;34m\u001b[0m\u001b[0m\n",
            "\u001b[0;32m/usr/local/lib/python3.6/dist-packages/tensorflow/python/eager/function.py\u001b[0m in \u001b[0;36m_maybe_define_function\u001b[0;34m(self, args, kwargs)\u001b[0m\n\u001b[1;32m   3359\u001b[0m \u001b[0;34m\u001b[0m\u001b[0m\n\u001b[1;32m   3360\u001b[0m           \u001b[0mself\u001b[0m\u001b[0;34m.\u001b[0m\u001b[0m_function_cache\u001b[0m\u001b[0;34m.\u001b[0m\u001b[0mmissed\u001b[0m\u001b[0;34m.\u001b[0m\u001b[0madd\u001b[0m\u001b[0;34m(\u001b[0m\u001b[0mcall_context_key\u001b[0m\u001b[0;34m)\u001b[0m\u001b[0;34m\u001b[0m\u001b[0;34m\u001b[0m\u001b[0m\n\u001b[0;32m-> 3361\u001b[0;31m           \u001b[0mgraph_function\u001b[0m \u001b[0;34m=\u001b[0m \u001b[0mself\u001b[0m\u001b[0;34m.\u001b[0m\u001b[0m_create_graph_function\u001b[0m\u001b[0;34m(\u001b[0m\u001b[0margs\u001b[0m\u001b[0;34m,\u001b[0m \u001b[0mkwargs\u001b[0m\u001b[0;34m)\u001b[0m\u001b[0;34m\u001b[0m\u001b[0;34m\u001b[0m\u001b[0m\n\u001b[0m\u001b[1;32m   3362\u001b[0m           \u001b[0mself\u001b[0m\u001b[0;34m.\u001b[0m\u001b[0m_function_cache\u001b[0m\u001b[0;34m.\u001b[0m\u001b[0mprimary\u001b[0m\u001b[0;34m[\u001b[0m\u001b[0mcache_key\u001b[0m\u001b[0;34m]\u001b[0m \u001b[0;34m=\u001b[0m \u001b[0mgraph_function\u001b[0m\u001b[0;34m\u001b[0m\u001b[0;34m\u001b[0m\u001b[0m\n\u001b[1;32m   3363\u001b[0m \u001b[0;34m\u001b[0m\u001b[0m\n",
            "\u001b[0;32m/usr/local/lib/python3.6/dist-packages/tensorflow/python/eager/function.py\u001b[0m in \u001b[0;36m_create_graph_function\u001b[0;34m(self, args, kwargs, override_flat_arg_shapes)\u001b[0m\n\u001b[1;32m   3204\u001b[0m             \u001b[0marg_names\u001b[0m\u001b[0;34m=\u001b[0m\u001b[0marg_names\u001b[0m\u001b[0;34m,\u001b[0m\u001b[0;34m\u001b[0m\u001b[0;34m\u001b[0m\u001b[0m\n\u001b[1;32m   3205\u001b[0m             \u001b[0moverride_flat_arg_shapes\u001b[0m\u001b[0;34m=\u001b[0m\u001b[0moverride_flat_arg_shapes\u001b[0m\u001b[0;34m,\u001b[0m\u001b[0;34m\u001b[0m\u001b[0;34m\u001b[0m\u001b[0m\n\u001b[0;32m-> 3206\u001b[0;31m             capture_by_value=self._capture_by_value),\n\u001b[0m\u001b[1;32m   3207\u001b[0m         \u001b[0mself\u001b[0m\u001b[0;34m.\u001b[0m\u001b[0m_function_attributes\u001b[0m\u001b[0;34m,\u001b[0m\u001b[0;34m\u001b[0m\u001b[0;34m\u001b[0m\u001b[0m\n\u001b[1;32m   3208\u001b[0m         \u001b[0mfunction_spec\u001b[0m\u001b[0;34m=\u001b[0m\u001b[0mself\u001b[0m\u001b[0;34m.\u001b[0m\u001b[0mfunction_spec\u001b[0m\u001b[0;34m,\u001b[0m\u001b[0;34m\u001b[0m\u001b[0;34m\u001b[0m\u001b[0m\n",
            "\u001b[0;32m/usr/local/lib/python3.6/dist-packages/tensorflow/python/framework/func_graph.py\u001b[0m in \u001b[0;36mfunc_graph_from_py_func\u001b[0;34m(name, python_func, args, kwargs, signature, func_graph, autograph, autograph_options, add_control_dependencies, arg_names, op_return_value, collections, capture_by_value, override_flat_arg_shapes)\u001b[0m\n\u001b[1;32m    988\u001b[0m         \u001b[0m_\u001b[0m\u001b[0;34m,\u001b[0m \u001b[0moriginal_func\u001b[0m \u001b[0;34m=\u001b[0m \u001b[0mtf_decorator\u001b[0m\u001b[0;34m.\u001b[0m\u001b[0munwrap\u001b[0m\u001b[0;34m(\u001b[0m\u001b[0mpython_func\u001b[0m\u001b[0;34m)\u001b[0m\u001b[0;34m\u001b[0m\u001b[0;34m\u001b[0m\u001b[0m\n\u001b[1;32m    989\u001b[0m \u001b[0;34m\u001b[0m\u001b[0m\n\u001b[0;32m--> 990\u001b[0;31m       \u001b[0mfunc_outputs\u001b[0m \u001b[0;34m=\u001b[0m \u001b[0mpython_func\u001b[0m\u001b[0;34m(\u001b[0m\u001b[0;34m*\u001b[0m\u001b[0mfunc_args\u001b[0m\u001b[0;34m,\u001b[0m \u001b[0;34m**\u001b[0m\u001b[0mfunc_kwargs\u001b[0m\u001b[0;34m)\u001b[0m\u001b[0;34m\u001b[0m\u001b[0;34m\u001b[0m\u001b[0m\n\u001b[0m\u001b[1;32m    991\u001b[0m \u001b[0;34m\u001b[0m\u001b[0m\n\u001b[1;32m    992\u001b[0m       \u001b[0;31m# invariant: `func_outputs` contains only Tensors, CompositeTensors,\u001b[0m\u001b[0;34m\u001b[0m\u001b[0;34m\u001b[0m\u001b[0;34m\u001b[0m\u001b[0m\n",
            "\u001b[0;32m/usr/local/lib/python3.6/dist-packages/tensorflow/python/eager/def_function.py\u001b[0m in \u001b[0;36mwrapped_fn\u001b[0;34m(*args, **kwds)\u001b[0m\n\u001b[1;32m    632\u001b[0m             \u001b[0mxla_context\u001b[0m\u001b[0;34m.\u001b[0m\u001b[0mExit\u001b[0m\u001b[0;34m(\u001b[0m\u001b[0;34m)\u001b[0m\u001b[0;34m\u001b[0m\u001b[0;34m\u001b[0m\u001b[0m\n\u001b[1;32m    633\u001b[0m         \u001b[0;32melse\u001b[0m\u001b[0;34m:\u001b[0m\u001b[0;34m\u001b[0m\u001b[0;34m\u001b[0m\u001b[0m\n\u001b[0;32m--> 634\u001b[0;31m           \u001b[0mout\u001b[0m \u001b[0;34m=\u001b[0m \u001b[0mweak_wrapped_fn\u001b[0m\u001b[0;34m(\u001b[0m\u001b[0;34m)\u001b[0m\u001b[0;34m.\u001b[0m\u001b[0m__wrapped__\u001b[0m\u001b[0;34m(\u001b[0m\u001b[0;34m*\u001b[0m\u001b[0margs\u001b[0m\u001b[0;34m,\u001b[0m \u001b[0;34m**\u001b[0m\u001b[0mkwds\u001b[0m\u001b[0;34m)\u001b[0m\u001b[0;34m\u001b[0m\u001b[0;34m\u001b[0m\u001b[0m\n\u001b[0m\u001b[1;32m    635\u001b[0m         \u001b[0;32mreturn\u001b[0m \u001b[0mout\u001b[0m\u001b[0;34m\u001b[0m\u001b[0;34m\u001b[0m\u001b[0m\n\u001b[1;32m    636\u001b[0m \u001b[0;34m\u001b[0m\u001b[0m\n",
            "\u001b[0;32m/usr/local/lib/python3.6/dist-packages/tensorflow/python/framework/func_graph.py\u001b[0m in \u001b[0;36mwrapper\u001b[0;34m(*args, **kwargs)\u001b[0m\n\u001b[1;32m    975\u001b[0m           \u001b[0;32mexcept\u001b[0m \u001b[0mException\u001b[0m \u001b[0;32mas\u001b[0m \u001b[0me\u001b[0m\u001b[0;34m:\u001b[0m  \u001b[0;31m# pylint:disable=broad-except\u001b[0m\u001b[0;34m\u001b[0m\u001b[0;34m\u001b[0m\u001b[0m\n\u001b[1;32m    976\u001b[0m             \u001b[0;32mif\u001b[0m \u001b[0mhasattr\u001b[0m\u001b[0;34m(\u001b[0m\u001b[0me\u001b[0m\u001b[0;34m,\u001b[0m \u001b[0;34m\"ag_error_metadata\"\u001b[0m\u001b[0;34m)\u001b[0m\u001b[0;34m:\u001b[0m\u001b[0;34m\u001b[0m\u001b[0;34m\u001b[0m\u001b[0m\n\u001b[0;32m--> 977\u001b[0;31m               \u001b[0;32mraise\u001b[0m \u001b[0me\u001b[0m\u001b[0;34m.\u001b[0m\u001b[0mag_error_metadata\u001b[0m\u001b[0;34m.\u001b[0m\u001b[0mto_exception\u001b[0m\u001b[0;34m(\u001b[0m\u001b[0me\u001b[0m\u001b[0;34m)\u001b[0m\u001b[0;34m\u001b[0m\u001b[0;34m\u001b[0m\u001b[0m\n\u001b[0m\u001b[1;32m    978\u001b[0m             \u001b[0;32melse\u001b[0m\u001b[0;34m:\u001b[0m\u001b[0;34m\u001b[0m\u001b[0;34m\u001b[0m\u001b[0m\n\u001b[1;32m    979\u001b[0m               \u001b[0;32mraise\u001b[0m\u001b[0;34m\u001b[0m\u001b[0;34m\u001b[0m\u001b[0m\n",
            "\u001b[0;31mValueError\u001b[0m: in user code:\n\n    /usr/local/lib/python3.6/dist-packages/tensorflow/python/keras/engine/training.py:805 train_function  *\n        return step_function(self, iterator)\n    /usr/local/lib/python3.6/dist-packages/tensorflow/python/keras/engine/training.py:795 step_function  **\n        outputs = model.distribute_strategy.run(run_step, args=(data,))\n    /usr/local/lib/python3.6/dist-packages/tensorflow/python/distribute/distribute_lib.py:1259 run\n        return self._extended.call_for_each_replica(fn, args=args, kwargs=kwargs)\n    /usr/local/lib/python3.6/dist-packages/tensorflow/python/distribute/distribute_lib.py:2730 call_for_each_replica\n        return self._call_for_each_replica(fn, args, kwargs)\n    /usr/local/lib/python3.6/dist-packages/tensorflow/python/distribute/distribute_lib.py:3417 _call_for_each_replica\n        return fn(*args, **kwargs)\n    /usr/local/lib/python3.6/dist-packages/tensorflow/python/keras/engine/training.py:788 run_step  **\n        outputs = model.train_step(data)\n    /usr/local/lib/python3.6/dist-packages/tensorflow/python/keras/engine/training.py:756 train_step\n        y, y_pred, sample_weight, regularization_losses=self.losses)\n    /usr/local/lib/python3.6/dist-packages/tensorflow/python/keras/engine/compile_utils.py:203 __call__\n        loss_value = loss_obj(y_t, y_p, sample_weight=sw)\n    /usr/local/lib/python3.6/dist-packages/tensorflow/python/keras/losses.py:152 __call__\n        losses = call_fn(y_true, y_pred)\n    /usr/local/lib/python3.6/dist-packages/tensorflow/python/keras/losses.py:256 call  **\n        return ag_fn(y_true, y_pred, **self._fn_kwargs)\n    /usr/local/lib/python3.6/dist-packages/tensorflow/python/util/dispatch.py:201 wrapper\n        return target(*args, **kwargs)\n    /usr/local/lib/python3.6/dist-packages/tensorflow/python/keras/losses.py:1198 mean_squared_error\n        return K.mean(math_ops.squared_difference(y_pred, y_true), axis=-1)\n    /usr/local/lib/python3.6/dist-packages/tensorflow/python/ops/gen_math_ops.py:10251 squared_difference\n        \"SquaredDifference\", x=x, y=y, name=name)\n    /usr/local/lib/python3.6/dist-packages/tensorflow/python/framework/op_def_library.py:750 _apply_op_helper\n        attrs=attr_protos, op_def=op_def)\n    /usr/local/lib/python3.6/dist-packages/tensorflow/python/framework/func_graph.py:592 _create_op_internal\n        compute_device)\n    /usr/local/lib/python3.6/dist-packages/tensorflow/python/framework/ops.py:3536 _create_op_internal\n        op_def=op_def)\n    /usr/local/lib/python3.6/dist-packages/tensorflow/python/framework/ops.py:2016 __init__\n        control_input_ops, op_def)\n    /usr/local/lib/python3.6/dist-packages/tensorflow/python/framework/ops.py:1856 _create_c_op\n        raise ValueError(str(e))\n\n    ValueError: Dimensions must be equal, but are 8 and 2 for '{{node mean_squared_error/SquaredDifference}} = SquaredDifference[T=DT_FLOAT](sequential_10/dense_10/BiasAdd, Cast)' with input shapes: [?,8], [?,8,2].\n"
          ]
        }
      ]
    }
  ]
}